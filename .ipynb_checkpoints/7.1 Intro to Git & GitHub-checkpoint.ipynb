{
 "cells": [
  {
   "cell_type": "markdown",
   "metadata": {},
   "source": [
    "## 7.1 Intro to Git & GitHub\n",
    "\n",
    "### So.. what is Git?\n",
    "- Git is a type of version control system (VCS).\n",
    "\n",
    "### So.. what is a Version Control System?\n",
    "- It is a system that manages changes to computer programs, documents, websites, databases, etc. \n",
    "- Most VCSs think of the information they store as a set of files.\n",
    "- Changes are made to those files.\n",
    "- When changes are made, it is a new version. \n",
    "- They are called the delta-based version control: focuses on the differences between versions. \n",
    "\n",
    "### Git is different from other VCS... How??\n",
    "- Git thinks of its data more like a series of snapshots of the file system.\n",
    "- with git, every time you commit, or save the state of your project, git takes a picture (snapshot) of how your file look at the moment. Then refernce is stored to that snapshot.  \n",
    "- When there are no change, git don't store the file again, but simply provide a link to the previous identical file which has already been stored.\n",
    "\n",
    "### There are 3 main stages of your file.\n",
    "- There are three main stages that your files can reside in: **modified**, **staged**, and **committed** \n",
    "- Modified: means that you have changed the file, but have not committed to your database yet.\n",
    "- Staged: you have marked the modified file in its current version to go into your next commit snapshot. \n",
    "- Commited: data is stored in your local database. \n",
    "\n",
    "### There are 3 main sctions of a Git project. \n",
    "- **working tree/directory**, **staging area**, and **git directory**. \n",
    "\n",
    "### So basically...\n",
    "- You modify the file in working tree/directory.\n",
    "- You stage those changes so that they can be the part of your next commit. The changes are added to the staging area.\n",
    "- You do the commit, then the files in the staging area are taken a snapshot.\n",
    "- The snapshot it permanently stored in your git directory. "
   ]
  }
 ],
 "metadata": {
  "kernelspec": {
   "display_name": "Python 3",
   "language": "python",
   "name": "python3"
  },
  "language_info": {
   "codemirror_mode": {
    "name": "ipython",
    "version": 3
   },
   "file_extension": ".py",
   "mimetype": "text/x-python",
   "name": "python",
   "nbconvert_exporter": "python",
   "pygments_lexer": "ipython3",
   "version": "3.8.3"
  }
 },
 "nbformat": 4,
 "nbformat_minor": 4
}
